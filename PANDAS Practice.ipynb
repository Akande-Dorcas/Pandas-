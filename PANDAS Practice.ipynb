{
 "cells": [
  {
   "cell_type": "code",
   "execution_count": 51,
   "id": "53ad9b59",
   "metadata": {},
   "outputs": [],
   "source": [
    "import pandas as pd\n",
    "import numpy as np"
   ]
  },
  {
   "cell_type": "code",
   "execution_count": 52,
   "id": "f01f159c",
   "metadata": {},
   "outputs": [
    {
     "name": "stdout",
     "output_type": "stream",
     "text": [
      "0       Monday\n",
      "1      Tuesday\n",
      "2    Wednesday\n",
      "dtype: object\n"
     ]
    }
   ],
   "source": [
    "days = pd.Series(['Monday', 'Tuesday', 'Wednesday'])\n",
    "print(days)"
   ]
  },
  {
   "cell_type": "code",
   "execution_count": 53,
   "id": "508cb27b",
   "metadata": {},
   "outputs": [
    {
     "name": "stdout",
     "output_type": "stream",
     "text": [
      "0       Monday\n",
      "1      Tuesday\n",
      "2    Wednesday\n",
      "dtype: object\n"
     ]
    }
   ],
   "source": [
    "# Creating series with numpy array\n",
    "days_list = np.array(['Monday', 'Tuesday', 'Wednesday'])\n",
    "a = pd.Series(days_list)\n",
    "print(a)"
   ]
  },
  {
   "cell_type": "code",
   "execution_count": 54,
   "id": "6be259ab",
   "metadata": {},
   "outputs": [
    {
     "name": "stdout",
     "output_type": "stream",
     "text": [
      "a       Monday\n",
      "b      Tuesday\n",
      "c    Wednesday\n",
      "dtype: object\n"
     ]
    }
   ],
   "source": [
    "# Using strings as index\n",
    "days = pd.Series(['Monday', 'Tuesday', 'Wednesday'], index = ['a', 'b', 'c'])\n",
    "print(days)"
   ]
  },
  {
   "cell_type": "code",
   "execution_count": 55,
   "id": "d491a2f6",
   "metadata": {},
   "outputs": [
    {
     "name": "stdout",
     "output_type": "stream",
     "text": [
      "a       Monday\n",
      "b      Tuesday\n",
      "c    Wednesday\n",
      "dtype: object\n"
     ]
    }
   ],
   "source": [
    "# Create series with dictionary\n",
    "days_list = pd.Series({'a':'Monday', 'b':'Tuesday', 'c':'Wednesday'})\n",
    "print(days_list)"
   ]
  },
  {
   "cell_type": "code",
   "execution_count": 56,
   "id": "d3a4196e",
   "metadata": {},
   "outputs": [
    {
     "data": {
      "text/plain": [
       "'Monday'"
      ]
     },
     "execution_count": 56,
     "metadata": {},
     "output_type": "execute_result"
    }
   ],
   "source": [
    "days[0]"
   ]
  },
  {
   "cell_type": "code",
   "execution_count": 57,
   "id": "1ba0bb32",
   "metadata": {},
   "outputs": [
    {
     "data": {
      "text/plain": [
       "a     Monday\n",
       "b    Tuesday\n",
       "dtype: object"
      ]
     },
     "execution_count": 57,
     "metadata": {},
     "output_type": "execute_result"
    }
   ],
   "source": [
    "days_list[:2]"
   ]
  },
  {
   "cell_type": "code",
   "execution_count": 58,
   "id": "6a9f2a73",
   "metadata": {},
   "outputs": [
    {
     "data": {
      "text/plain": [
       "'Wednesday'"
      ]
     },
     "execution_count": 58,
     "metadata": {},
     "output_type": "execute_result"
    }
   ],
   "source": [
    "days_list['c']"
   ]
  },
  {
   "cell_type": "code",
   "execution_count": 59,
   "id": "338edeca",
   "metadata": {},
   "outputs": [
    {
     "name": "stdout",
     "output_type": "stream",
     "text": [
      "a    5.0\n",
      "b    5.0\n",
      "c    5.0\n",
      "d    5.0\n",
      "e    5.0\n",
      "dtype: float64\n"
     ]
    }
   ],
   "source": [
    "# Create series from scalar\n",
    "scalar_series = pd.Series(5., index = ['a','b','c','d','e'])\n",
    "print(scalar_series)"
   ]
  },
  {
   "cell_type": "code",
   "execution_count": 60,
   "id": "60e9340d",
   "metadata": {},
   "outputs": [
    {
     "name": "stdout",
     "output_type": "stream",
     "text": [
      "   Country  Capital  Population  Age\n",
      "0  Nigeria    Abuja        1000   50\n",
      "1    Kenya  Nairobi        7000   40\n",
      "2     Togo     Lome         500   70\n",
      "3    Ghana    Accra        6001   90\n"
     ]
    }
   ],
   "source": [
    "# Create a dataframe from a dictionary\n",
    "df_dictionary = {'Country': ['Nigeria', 'Kenya', 'Togo', 'Ghana'], 'Capital': ['Abuja', 'Nairobi', 'Lome','Accra'], 'Population': [1000, 7000, 500, 6001], 'Age': [50, 40, 70, 90]}\n",
    "s = pd.DataFrame(df_dictionary)\n",
    "print(s)"
   ]
  },
  {
   "cell_type": "code",
   "execution_count": 61,
   "id": "b55917bd",
   "metadata": {},
   "outputs": [
    {
     "name": "stdout",
     "output_type": "stream",
     "text": [
      "   Country  Capital  Population   Age\n",
      "0  Nigeria      NaN      1000.0  50.0\n",
      "1    Kenya  Nairobi         NaN  40.0\n",
      "2     Togo     Lome       500.0  70.0\n",
      "3    Ghana    Accra         NaN   NaN\n"
     ]
    }
   ],
   "source": [
    "df_dictionary = {'Country': ['Nigeria', 'Kenya', 'Togo', 'Ghana'], 'Capital': [np.NaN, 'Nairobi', 'Lome','Accra'], 'Population': [1000, np.NaN, 500, np.NaN], 'Age': [50, 40, 70, np.NaN]}\n",
    "df = pd.DataFrame(df_dictionary)\n",
    "print(df)"
   ]
  },
  {
   "cell_type": "code",
   "execution_count": 62,
   "id": "3b32091d",
   "metadata": {},
   "outputs": [
    {
     "data": {
      "text/plain": [
       "Country       0\n",
       "Capital       1\n",
       "Population    2\n",
       "Age           1\n",
       "dtype: int64"
      ]
     },
     "execution_count": 62,
     "metadata": {},
     "output_type": "execute_result"
    }
   ],
   "source": [
    "df_dictionary = {'Country': ['Nigeria', 'Kenya', 'Togo', 'Ghana'], 'Capital': [np.NaN, 'Nairobi', 'Lome','Accra'], 'Population': [1000, np.NaN, 500, np.NaN], 'Age': [50, 40, 70, np.NaN]}\n",
    "df = pd.DataFrame(df_dictionary)\n",
    "df.isnull().sum()"
   ]
  },
  {
   "cell_type": "code",
   "execution_count": 63,
   "id": "6448fdb8",
   "metadata": {},
   "outputs": [
    {
     "data": {
      "text/html": [
       "<div>\n",
       "<style scoped>\n",
       "    .dataframe tbody tr th:only-of-type {\n",
       "        vertical-align: middle;\n",
       "    }\n",
       "\n",
       "    .dataframe tbody tr th {\n",
       "        vertical-align: top;\n",
       "    }\n",
       "\n",
       "    .dataframe thead th {\n",
       "        text-align: right;\n",
       "    }\n",
       "</style>\n",
       "<table border=\"1\" class=\"dataframe\">\n",
       "  <thead>\n",
       "    <tr style=\"text-align: right;\">\n",
       "      <th></th>\n",
       "      <th>Country</th>\n",
       "      <th>Capital</th>\n",
       "      <th>Population</th>\n",
       "      <th>Age</th>\n",
       "    </tr>\n",
       "  </thead>\n",
       "  <tbody>\n",
       "    <tr>\n",
       "      <th>0</th>\n",
       "      <td>Nigeria</td>\n",
       "      <td>0</td>\n",
       "      <td>1000.0</td>\n",
       "      <td>50.0</td>\n",
       "    </tr>\n",
       "    <tr>\n",
       "      <th>1</th>\n",
       "      <td>Kenya</td>\n",
       "      <td>Nairobi</td>\n",
       "      <td>0.0</td>\n",
       "      <td>40.0</td>\n",
       "    </tr>\n",
       "    <tr>\n",
       "      <th>2</th>\n",
       "      <td>Togo</td>\n",
       "      <td>Lome</td>\n",
       "      <td>500.0</td>\n",
       "      <td>70.0</td>\n",
       "    </tr>\n",
       "    <tr>\n",
       "      <th>3</th>\n",
       "      <td>Ghana</td>\n",
       "      <td>Accra</td>\n",
       "      <td>0.0</td>\n",
       "      <td>0.0</td>\n",
       "    </tr>\n",
       "  </tbody>\n",
       "</table>\n",
       "</div>"
      ],
      "text/plain": [
       "   Country  Capital  Population   Age\n",
       "0  Nigeria        0      1000.0  50.0\n",
       "1    Kenya  Nairobi         0.0  40.0\n",
       "2     Togo     Lome       500.0  70.0\n",
       "3    Ghana    Accra         0.0   0.0"
      ]
     },
     "execution_count": 63,
     "metadata": {},
     "output_type": "execute_result"
    }
   ],
   "source": [
    "df_dictionary = {'Country': ['Nigeria', 'Kenya', 'Togo', 'Ghana'], 'Capital': [np.NaN, 'Nairobi', 'Lome','Accra'], 'Population': [1000, np.NaN, 500, np.NaN], 'Age': [50, 40, 70, np.NaN]}\n",
    "df = pd.DataFrame(df_dictionary)\n",
    "df.fillna(0)"
   ]
  },
  {
   "cell_type": "code",
   "execution_count": 64,
   "id": "c65f7781",
   "metadata": {},
   "outputs": [
    {
     "data": {
      "text/html": [
       "<div>\n",
       "<style scoped>\n",
       "    .dataframe tbody tr th:only-of-type {\n",
       "        vertical-align: middle;\n",
       "    }\n",
       "\n",
       "    .dataframe tbody tr th {\n",
       "        vertical-align: top;\n",
       "    }\n",
       "\n",
       "    .dataframe thead th {\n",
       "        text-align: right;\n",
       "    }\n",
       "</style>\n",
       "<table border=\"1\" class=\"dataframe\">\n",
       "  <thead>\n",
       "    <tr style=\"text-align: right;\">\n",
       "      <th></th>\n",
       "      <th>Country</th>\n",
       "      <th>Capital</th>\n",
       "      <th>Population</th>\n",
       "      <th>Age</th>\n",
       "    </tr>\n",
       "  </thead>\n",
       "  <tbody>\n",
       "    <tr>\n",
       "      <th>0</th>\n",
       "      <td>Nigeria</td>\n",
       "      <td>NaN</td>\n",
       "      <td>1000.0</td>\n",
       "      <td>50.0</td>\n",
       "    </tr>\n",
       "    <tr>\n",
       "      <th>1</th>\n",
       "      <td>Kenya</td>\n",
       "      <td>Nairobi</td>\n",
       "      <td>1000.0</td>\n",
       "      <td>40.0</td>\n",
       "    </tr>\n",
       "    <tr>\n",
       "      <th>2</th>\n",
       "      <td>Togo</td>\n",
       "      <td>Lome</td>\n",
       "      <td>500.0</td>\n",
       "      <td>70.0</td>\n",
       "    </tr>\n",
       "    <tr>\n",
       "      <th>3</th>\n",
       "      <td>Ghana</td>\n",
       "      <td>Accra</td>\n",
       "      <td>500.0</td>\n",
       "      <td>70.0</td>\n",
       "    </tr>\n",
       "  </tbody>\n",
       "</table>\n",
       "</div>"
      ],
      "text/plain": [
       "   Country  Capital  Population   Age\n",
       "0  Nigeria      NaN      1000.0  50.0\n",
       "1    Kenya  Nairobi      1000.0  40.0\n",
       "2     Togo     Lome       500.0  70.0\n",
       "3    Ghana    Accra       500.0  70.0"
      ]
     },
     "execution_count": 64,
     "metadata": {},
     "output_type": "execute_result"
    }
   ],
   "source": [
    "df_dictionary = {'Country': ['Nigeria', 'Kenya', 'Togo', 'Ghana'], 'Capital': [np.NaN, 'Nairobi', 'Lome','Accra'], 'Population': [1000, np.NaN, 500, np.NaN], 'Age': [50, 40, 70, np.NaN]}\n",
    "df = pd.DataFrame(df_dictionary)\n",
    "df.replace()"
   ]
  },
  {
   "cell_type": "code",
   "execution_count": 65,
   "id": "f5c068e0",
   "metadata": {},
   "outputs": [
    {
     "data": {
      "text/html": [
       "<div>\n",
       "<style scoped>\n",
       "    .dataframe tbody tr th:only-of-type {\n",
       "        vertical-align: middle;\n",
       "    }\n",
       "\n",
       "    .dataframe tbody tr th {\n",
       "        vertical-align: top;\n",
       "    }\n",
       "\n",
       "    .dataframe thead th {\n",
       "        text-align: right;\n",
       "    }\n",
       "</style>\n",
       "<table border=\"1\" class=\"dataframe\">\n",
       "  <thead>\n",
       "    <tr style=\"text-align: right;\">\n",
       "      <th></th>\n",
       "      <th>Country</th>\n",
       "      <th>Capital</th>\n",
       "      <th>Population</th>\n",
       "      <th>Age</th>\n",
       "    </tr>\n",
       "  </thead>\n",
       "  <tbody>\n",
       "    <tr>\n",
       "      <th>0</th>\n",
       "      <td>True</td>\n",
       "      <td>False</td>\n",
       "      <td>True</td>\n",
       "      <td>True</td>\n",
       "    </tr>\n",
       "    <tr>\n",
       "      <th>1</th>\n",
       "      <td>True</td>\n",
       "      <td>True</td>\n",
       "      <td>False</td>\n",
       "      <td>True</td>\n",
       "    </tr>\n",
       "    <tr>\n",
       "      <th>2</th>\n",
       "      <td>True</td>\n",
       "      <td>True</td>\n",
       "      <td>True</td>\n",
       "      <td>True</td>\n",
       "    </tr>\n",
       "    <tr>\n",
       "      <th>3</th>\n",
       "      <td>True</td>\n",
       "      <td>True</td>\n",
       "      <td>False</td>\n",
       "      <td>False</td>\n",
       "    </tr>\n",
       "  </tbody>\n",
       "</table>\n",
       "</div>"
      ],
      "text/plain": [
       "   Country  Capital  Population    Age\n",
       "0     True    False        True   True\n",
       "1     True     True       False   True\n",
       "2     True     True        True   True\n",
       "3     True     True       False  False"
      ]
     },
     "execution_count": 65,
     "metadata": {},
     "output_type": "execute_result"
    }
   ],
   "source": [
    "df_dictionary = {'Country': ['Nigeria', 'Kenya', 'Togo', 'Ghana'], 'Capital': [np.NaN, 'Nairobi', 'Lome','Accra'], 'Population': [1000, np.NaN, 500, np.NaN], 'Age': [50, 40, 70, np.NaN]}\n",
    "df = pd.DataFrame(df_dictionary)\n",
    "df.notnull()"
   ]
  },
  {
   "cell_type": "code",
   "execution_count": 66,
   "id": "1299fad8",
   "metadata": {},
   "outputs": [
    {
     "data": {
      "text/html": [
       "<div>\n",
       "<style scoped>\n",
       "    .dataframe tbody tr th:only-of-type {\n",
       "        vertical-align: middle;\n",
       "    }\n",
       "\n",
       "    .dataframe tbody tr th {\n",
       "        vertical-align: top;\n",
       "    }\n",
       "\n",
       "    .dataframe thead th {\n",
       "        text-align: right;\n",
       "    }\n",
       "</style>\n",
       "<table border=\"1\" class=\"dataframe\">\n",
       "  <thead>\n",
       "    <tr style=\"text-align: right;\">\n",
       "      <th></th>\n",
       "      <th>Country</th>\n",
       "      <th>Capital</th>\n",
       "      <th>Population</th>\n",
       "      <th>Age</th>\n",
       "    </tr>\n",
       "  </thead>\n",
       "  <tbody>\n",
       "    <tr>\n",
       "      <th>1</th>\n",
       "      <td>Kenya</td>\n",
       "      <td>Nairobi</td>\n",
       "      <td>NaN</td>\n",
       "      <td>40.0</td>\n",
       "    </tr>\n",
       "    <tr>\n",
       "      <th>2</th>\n",
       "      <td>Togo</td>\n",
       "      <td>Lome</td>\n",
       "      <td>500.0</td>\n",
       "      <td>70.0</td>\n",
       "    </tr>\n",
       "    <tr>\n",
       "      <th>3</th>\n",
       "      <td>Ghana</td>\n",
       "      <td>Accra</td>\n",
       "      <td>NaN</td>\n",
       "      <td>NaN</td>\n",
       "    </tr>\n",
       "  </tbody>\n",
       "</table>\n",
       "</div>"
      ],
      "text/plain": [
       "  Country  Capital  Population   Age\n",
       "1   Kenya  Nairobi         NaN  40.0\n",
       "2    Togo     Lome       500.0  70.0\n",
       "3   Ghana    Accra         NaN   NaN"
      ]
     },
     "execution_count": 66,
     "metadata": {},
     "output_type": "execute_result"
    }
   ],
   "source": [
    "# View data\n",
    "df.tail(3)"
   ]
  },
  {
   "cell_type": "code",
   "execution_count": 67,
   "id": "63cf2e11",
   "metadata": {},
   "outputs": [
    {
     "data": {
      "text/plain": [
       "RangeIndex(start=0, stop=4, step=1)"
      ]
     },
     "execution_count": 67,
     "metadata": {},
     "output_type": "execute_result"
    }
   ],
   "source": [
    "# View data\n",
    "df.index"
   ]
  },
  {
   "cell_type": "code",
   "execution_count": 68,
   "id": "726ad4be",
   "metadata": {},
   "outputs": [
    {
     "data": {
      "text/plain": [
       "Index(['Country', 'Capital', 'Population', 'Age'], dtype='object')"
      ]
     },
     "execution_count": 68,
     "metadata": {},
     "output_type": "execute_result"
    }
   ],
   "source": [
    "# View data\n",
    "df.columns"
   ]
  },
  {
   "cell_type": "code",
   "execution_count": 69,
   "id": "25e33a56",
   "metadata": {},
   "outputs": [
    {
     "data": {
      "text/plain": [
       "0    1000.0\n",
       "1       NaN\n",
       "2     500.0\n",
       "3       NaN\n",
       "Name: Population, dtype: float64"
      ]
     },
     "execution_count": 69,
     "metadata": {},
     "output_type": "execute_result"
    }
   ],
   "source": [
    "# Select data\n",
    "df['Population']"
   ]
  },
  {
   "cell_type": "code",
   "execution_count": 70,
   "id": "2b5005a8",
   "metadata": {},
   "outputs": [
    {
     "data": {
      "text/html": [
       "<div>\n",
       "<style scoped>\n",
       "    .dataframe tbody tr th:only-of-type {\n",
       "        vertical-align: middle;\n",
       "    }\n",
       "\n",
       "    .dataframe tbody tr th {\n",
       "        vertical-align: top;\n",
       "    }\n",
       "\n",
       "    .dataframe thead th {\n",
       "        text-align: right;\n",
       "    }\n",
       "</style>\n",
       "<table border=\"1\" class=\"dataframe\">\n",
       "  <thead>\n",
       "    <tr style=\"text-align: right;\">\n",
       "      <th></th>\n",
       "      <th>Country</th>\n",
       "      <th>Capital</th>\n",
       "      <th>Population</th>\n",
       "      <th>Age</th>\n",
       "    </tr>\n",
       "  </thead>\n",
       "  <tbody>\n",
       "    <tr>\n",
       "      <th>1</th>\n",
       "      <td>Kenya</td>\n",
       "      <td>Nairobi</td>\n",
       "      <td>NaN</td>\n",
       "      <td>40.0</td>\n",
       "    </tr>\n",
       "  </tbody>\n",
       "</table>\n",
       "</div>"
      ],
      "text/plain": [
       "  Country  Capital  Population   Age\n",
       "1   Kenya  Nairobi         NaN  40.0"
      ]
     },
     "execution_count": 70,
     "metadata": {},
     "output_type": "execute_result"
    }
   ],
   "source": [
    "# Select data using boolean expression\n",
    "df[df['Age'] < 50]"
   ]
  },
  {
   "cell_type": "code",
   "execution_count": 71,
   "id": "897183b7",
   "metadata": {},
   "outputs": [
    {
     "data": {
      "text/html": [
       "<div>\n",
       "<style scoped>\n",
       "    .dataframe tbody tr th:only-of-type {\n",
       "        vertical-align: middle;\n",
       "    }\n",
       "\n",
       "    .dataframe tbody tr th {\n",
       "        vertical-align: top;\n",
       "    }\n",
       "\n",
       "    .dataframe thead th {\n",
       "        text-align: right;\n",
       "    }\n",
       "</style>\n",
       "<table border=\"1\" class=\"dataframe\">\n",
       "  <thead>\n",
       "    <tr style=\"text-align: right;\">\n",
       "      <th></th>\n",
       "      <th>Country</th>\n",
       "      <th>Capital</th>\n",
       "      <th>Population</th>\n",
       "      <th>Age</th>\n",
       "    </tr>\n",
       "  </thead>\n",
       "  <tbody>\n",
       "    <tr>\n",
       "      <th>0</th>\n",
       "      <td>Nigeria</td>\n",
       "      <td>NaN</td>\n",
       "      <td>1000.0</td>\n",
       "      <td>50.0</td>\n",
       "    </tr>\n",
       "    <tr>\n",
       "      <th>1</th>\n",
       "      <td>Kenya</td>\n",
       "      <td>Nairobi</td>\n",
       "      <td>NaN</td>\n",
       "      <td>40.0</td>\n",
       "    </tr>\n",
       "  </tbody>\n",
       "</table>\n",
       "</div>"
      ],
      "text/plain": [
       "   Country  Capital  Population   Age\n",
       "0  Nigeria      NaN      1000.0  50.0\n",
       "1    Kenya  Nairobi         NaN  40.0"
      ]
     },
     "execution_count": 71,
     "metadata": {},
     "output_type": "execute_result"
    }
   ],
   "source": [
    "# Select data\n",
    "df.iloc[0:2]"
   ]
  },
  {
   "cell_type": "code",
   "execution_count": 73,
   "id": "061bc6de",
   "metadata": {},
   "outputs": [
    {
     "data": {
      "text/html": [
       "<div>\n",
       "<style scoped>\n",
       "    .dataframe tbody tr th:only-of-type {\n",
       "        vertical-align: middle;\n",
       "    }\n",
       "\n",
       "    .dataframe tbody tr th {\n",
       "        vertical-align: top;\n",
       "    }\n",
       "\n",
       "    .dataframe thead th {\n",
       "        text-align: right;\n",
       "    }\n",
       "</style>\n",
       "<table border=\"1\" class=\"dataframe\">\n",
       "  <thead>\n",
       "    <tr style=\"text-align: right;\">\n",
       "      <th></th>\n",
       "      <th>Population</th>\n",
       "      <th>Age</th>\n",
       "    </tr>\n",
       "  </thead>\n",
       "  <tbody>\n",
       "    <tr>\n",
       "      <th>count</th>\n",
       "      <td>2.000000</td>\n",
       "      <td>3.000000</td>\n",
       "    </tr>\n",
       "    <tr>\n",
       "      <th>mean</th>\n",
       "      <td>750.000000</td>\n",
       "      <td>53.333333</td>\n",
       "    </tr>\n",
       "    <tr>\n",
       "      <th>std</th>\n",
       "      <td>353.553391</td>\n",
       "      <td>15.275252</td>\n",
       "    </tr>\n",
       "    <tr>\n",
       "      <th>min</th>\n",
       "      <td>500.000000</td>\n",
       "      <td>40.000000</td>\n",
       "    </tr>\n",
       "    <tr>\n",
       "      <th>25%</th>\n",
       "      <td>625.000000</td>\n",
       "      <td>45.000000</td>\n",
       "    </tr>\n",
       "    <tr>\n",
       "      <th>50%</th>\n",
       "      <td>750.000000</td>\n",
       "      <td>50.000000</td>\n",
       "    </tr>\n",
       "    <tr>\n",
       "      <th>75%</th>\n",
       "      <td>875.000000</td>\n",
       "      <td>60.000000</td>\n",
       "    </tr>\n",
       "    <tr>\n",
       "      <th>max</th>\n",
       "      <td>1000.000000</td>\n",
       "      <td>70.000000</td>\n",
       "    </tr>\n",
       "  </tbody>\n",
       "</table>\n",
       "</div>"
      ],
      "text/plain": [
       "        Population        Age\n",
       "count     2.000000   3.000000\n",
       "mean    750.000000  53.333333\n",
       "std     353.553391  15.275252\n",
       "min     500.000000  40.000000\n",
       "25%     625.000000  45.000000\n",
       "50%     750.000000  50.000000\n",
       "75%     875.000000  60.000000\n",
       "max    1000.000000  70.000000"
      ]
     },
     "execution_count": 73,
     "metadata": {},
     "output_type": "execute_result"
    }
   ],
   "source": [
    "df.describe()"
   ]
  },
  {
   "cell_type": "code",
   "execution_count": 89,
   "id": "6664f1fc",
   "metadata": {},
   "outputs": [
    {
     "name": "stdout",
     "output_type": "stream",
     "text": [
      "  Employee        Group\n",
      "0    James   Accounting\n",
      "1     Tope  Engineering\n",
      "2    Idris           HR\n",
      "3   Dorcas  Engineering\n"
     ]
    }
   ],
   "source": [
    "df1 = {'Employee': ['James', 'Tope', 'Idris', 'Dorcas'], 'Group': ['Accounting', 'Engineering', 'HR', 'Engineering']}\n",
    "df1 = pd.DataFrame(df1)\n",
    "print(df1)"
   ]
  },
  {
   "cell_type": "code",
   "execution_count": 90,
   "id": "a38a7489",
   "metadata": {},
   "outputs": [
    {
     "data": {
      "text/html": [
       "<div>\n",
       "<style scoped>\n",
       "    .dataframe tbody tr th:only-of-type {\n",
       "        vertical-align: middle;\n",
       "    }\n",
       "\n",
       "    .dataframe tbody tr th {\n",
       "        vertical-align: top;\n",
       "    }\n",
       "\n",
       "    .dataframe thead th {\n",
       "        text-align: right;\n",
       "    }\n",
       "</style>\n",
       "<table border=\"1\" class=\"dataframe\">\n",
       "  <thead>\n",
       "    <tr style=\"text-align: right;\">\n",
       "      <th></th>\n",
       "      <th>Employee</th>\n",
       "      <th>Group</th>\n",
       "      <th>Hire_date</th>\n",
       "    </tr>\n",
       "  </thead>\n",
       "  <tbody>\n",
       "    <tr>\n",
       "      <th>0</th>\n",
       "      <td>James</td>\n",
       "      <td>Accounting</td>\n",
       "      <td>2021</td>\n",
       "    </tr>\n",
       "    <tr>\n",
       "      <th>1</th>\n",
       "      <td>Tope</td>\n",
       "      <td>Engineering</td>\n",
       "      <td>2015</td>\n",
       "    </tr>\n",
       "    <tr>\n",
       "      <th>2</th>\n",
       "      <td>Idris</td>\n",
       "      <td>HR</td>\n",
       "      <td>2010</td>\n",
       "    </tr>\n",
       "    <tr>\n",
       "      <th>3</th>\n",
       "      <td>Dorcas</td>\n",
       "      <td>Engineering</td>\n",
       "      <td>1950</td>\n",
       "    </tr>\n",
       "  </tbody>\n",
       "</table>\n",
       "</div>"
      ],
      "text/plain": [
       "  Employee        Group  Hire_date\n",
       "0    James   Accounting       2021\n",
       "1     Tope  Engineering       2015\n",
       "2    Idris           HR       2010\n",
       "3   Dorcas  Engineering       1950"
      ]
     },
     "execution_count": 90,
     "metadata": {},
     "output_type": "execute_result"
    }
   ],
   "source": [
    "# # One-to-one joins\n",
    "df2 = {'Employee': ['James', 'Tope', 'Idris', 'Dorcas'], 'Hire_date': [2021, 2015, 2010, 1950]}\n",
    "df2 = pd.DataFrame(df2)\n",
    "df3 = pd.merge(df1,df2)\n",
    "df3"
   ]
  },
  {
   "cell_type": "code",
   "execution_count": 95,
   "id": "a7c76f8d",
   "metadata": {},
   "outputs": [
    {
     "data": {
      "text/html": [
       "<div>\n",
       "<style scoped>\n",
       "    .dataframe tbody tr th:only-of-type {\n",
       "        vertical-align: middle;\n",
       "    }\n",
       "\n",
       "    .dataframe tbody tr th {\n",
       "        vertical-align: top;\n",
       "    }\n",
       "\n",
       "    .dataframe thead th {\n",
       "        text-align: right;\n",
       "    }\n",
       "</style>\n",
       "<table border=\"1\" class=\"dataframe\">\n",
       "  <thead>\n",
       "    <tr style=\"text-align: right;\">\n",
       "      <th></th>\n",
       "      <th>Employee</th>\n",
       "      <th>Group</th>\n",
       "      <th>Hire_date</th>\n",
       "      <th>Supervisor</th>\n",
       "    </tr>\n",
       "  </thead>\n",
       "  <tbody>\n",
       "    <tr>\n",
       "      <th>0</th>\n",
       "      <td>James</td>\n",
       "      <td>Accounting</td>\n",
       "      <td>2021</td>\n",
       "      <td>Carly</td>\n",
       "    </tr>\n",
       "    <tr>\n",
       "      <th>1</th>\n",
       "      <td>Tope</td>\n",
       "      <td>Engineering</td>\n",
       "      <td>2015</td>\n",
       "      <td>Gbemisola</td>\n",
       "    </tr>\n",
       "    <tr>\n",
       "      <th>2</th>\n",
       "      <td>Dorcas</td>\n",
       "      <td>Engineering</td>\n",
       "      <td>1950</td>\n",
       "      <td>Gbemisola</td>\n",
       "    </tr>\n",
       "    <tr>\n",
       "      <th>3</th>\n",
       "      <td>Idris</td>\n",
       "      <td>HR</td>\n",
       "      <td>2010</td>\n",
       "      <td>Steve</td>\n",
       "    </tr>\n",
       "  </tbody>\n",
       "</table>\n",
       "</div>"
      ],
      "text/plain": [
       "  Employee        Group  Hire_date Supervisor\n",
       "0    James   Accounting       2021      Carly\n",
       "1     Tope  Engineering       2015  Gbemisola\n",
       "2   Dorcas  Engineering       1950  Gbemisola\n",
       "3    Idris           HR       2010      Steve"
      ]
     },
     "execution_count": 95,
     "metadata": {},
     "output_type": "execute_result"
    }
   ],
   "source": [
    "# Many-to-one joins\n",
    "df4 = pd.DataFrame({'Group': ['Accounting', 'Engineering', 'HR'], 'Supervisor': ['Carly', 'Gbemisola', 'Steve']})\n",
    "df5 = pd.merge(df3, df4)\n",
    "df5"
   ]
  },
  {
   "cell_type": "code",
   "execution_count": 97,
   "id": "112a8e1a",
   "metadata": {},
   "outputs": [
    {
     "data": {
      "text/html": [
       "<div>\n",
       "<style scoped>\n",
       "    .dataframe tbody tr th:only-of-type {\n",
       "        vertical-align: middle;\n",
       "    }\n",
       "\n",
       "    .dataframe tbody tr th {\n",
       "        vertical-align: top;\n",
       "    }\n",
       "\n",
       "    .dataframe thead th {\n",
       "        text-align: right;\n",
       "    }\n",
       "</style>\n",
       "<table border=\"1\" class=\"dataframe\">\n",
       "  <thead>\n",
       "    <tr style=\"text-align: right;\">\n",
       "      <th></th>\n",
       "      <th>Employee</th>\n",
       "      <th>Group</th>\n",
       "      <th>Hire_date</th>\n",
       "      <th>Supervisor</th>\n",
       "      <th>Skills</th>\n",
       "    </tr>\n",
       "  </thead>\n",
       "  <tbody>\n",
       "    <tr>\n",
       "      <th>0</th>\n",
       "      <td>James</td>\n",
       "      <td>Accounting</td>\n",
       "      <td>2021</td>\n",
       "      <td>Carly</td>\n",
       "      <td>Math</td>\n",
       "    </tr>\n",
       "    <tr>\n",
       "      <th>1</th>\n",
       "      <td>James</td>\n",
       "      <td>Accounting</td>\n",
       "      <td>2021</td>\n",
       "      <td>Carly</td>\n",
       "      <td>Spreadsheets</td>\n",
       "    </tr>\n",
       "    <tr>\n",
       "      <th>2</th>\n",
       "      <td>Tope</td>\n",
       "      <td>Engineering</td>\n",
       "      <td>2015</td>\n",
       "      <td>Gbemisola</td>\n",
       "      <td>Coding</td>\n",
       "    </tr>\n",
       "    <tr>\n",
       "      <th>3</th>\n",
       "      <td>Tope</td>\n",
       "      <td>Engineering</td>\n",
       "      <td>2015</td>\n",
       "      <td>Gbemisola</td>\n",
       "      <td>Organization</td>\n",
       "    </tr>\n",
       "    <tr>\n",
       "      <th>4</th>\n",
       "      <td>Dorcas</td>\n",
       "      <td>Engineering</td>\n",
       "      <td>1950</td>\n",
       "      <td>Gbemisola</td>\n",
       "      <td>Coding</td>\n",
       "    </tr>\n",
       "    <tr>\n",
       "      <th>5</th>\n",
       "      <td>Dorcas</td>\n",
       "      <td>Engineering</td>\n",
       "      <td>1950</td>\n",
       "      <td>Gbemisola</td>\n",
       "      <td>Organization</td>\n",
       "    </tr>\n",
       "    <tr>\n",
       "      <th>6</th>\n",
       "      <td>Idris</td>\n",
       "      <td>HR</td>\n",
       "      <td>2010</td>\n",
       "      <td>Steve</td>\n",
       "      <td>Linux</td>\n",
       "    </tr>\n",
       "    <tr>\n",
       "      <th>7</th>\n",
       "      <td>Idris</td>\n",
       "      <td>HR</td>\n",
       "      <td>2010</td>\n",
       "      <td>Steve</td>\n",
       "      <td>Spreadsheets</td>\n",
       "    </tr>\n",
       "  </tbody>\n",
       "</table>\n",
       "</div>"
      ],
      "text/plain": [
       "  Employee        Group  Hire_date Supervisor        Skills\n",
       "0    James   Accounting       2021      Carly          Math\n",
       "1    James   Accounting       2021      Carly  Spreadsheets\n",
       "2     Tope  Engineering       2015  Gbemisola        Coding\n",
       "3     Tope  Engineering       2015  Gbemisola  Organization\n",
       "4   Dorcas  Engineering       1950  Gbemisola        Coding\n",
       "5   Dorcas  Engineering       1950  Gbemisola  Organization\n",
       "6    Idris           HR       2010      Steve         Linux\n",
       "7    Idris           HR       2010      Steve  Spreadsheets"
      ]
     },
     "execution_count": 97,
     "metadata": {},
     "output_type": "execute_result"
    }
   ],
   "source": [
    "# Many-to-many joins\n",
    "df6 = pd.DataFrame({'Group': ['Accounting', 'Accounting', 'Engineering', 'HR', 'HR', 'Engineering'], 'Skills': ['Math', 'Spreadsheets', 'Coding', 'Linux', 'Spreadsheets', 'Organization']})\n",
    "df7 = pd.merge(df5, df6)\n",
    "df7"
   ]
  },
  {
   "cell_type": "code",
   "execution_count": null,
   "id": "4a9bbdb6",
   "metadata": {},
   "outputs": [],
   "source": []
  }
 ],
 "metadata": {
  "kernelspec": {
   "display_name": "Python 3",
   "language": "python",
   "name": "python3"
  },
  "language_info": {
   "codemirror_mode": {
    "name": "ipython",
    "version": 3
   },
   "file_extension": ".py",
   "mimetype": "text/x-python",
   "name": "python",
   "nbconvert_exporter": "python",
   "pygments_lexer": "ipython3",
   "version": "3.8.8"
  }
 },
 "nbformat": 4,
 "nbformat_minor": 5
}
